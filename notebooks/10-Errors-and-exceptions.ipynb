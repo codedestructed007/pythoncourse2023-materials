{
 "cells": [
  {
   "cell_type": "markdown",
   "id": "5623da5d-41bc-4c11-896f-e8a7497d2420",
   "metadata": {},
   "source": [
    "# Errors and exceptions "
   ]
  },
  {
   "cell_type": "markdown",
   "id": "f867efe8-6400-4fcd-a367-9c8b3821ecdf",
   "metadata": {},
   "source": [
    "Mistakes can come in three basic flavors:\n",
    "\n",
    "- **Syntax errors:** \n",
    "  - When code is not valid Python (can be easy to fix, e.g., missing a `:` at the start of your loop)\n",
    "- **Runtime errors:** \n",
    "  - When your valid code fails to execute, perhaps due to invalid user input (sometimes easy to fix, e.g., when you've read the wrong input data)\n",
    "- **Semantic errors:** \n",
    "  - Code executes without a problem, but the result is not what you expect (as python doesn't know what you expected, errors can be very difficult to track-down and fix)\n"
   ]
  },
  {
   "cell_type": "markdown",
   "id": "74b89303-c6c9-41c1-b32c-af437adad935",
   "metadata": {},
   "source": [
    "Here we're going to focus on how you can cleanly deal with *runtime errors* (recognised in python) in your code."
   ]
  },
  {
   "cell_type": "markdown",
   "id": "29432439-c450-4c41-aa30-0e10331958c0",
   "metadata": {},
   "source": [
    "## `try` and `except`: how to manage errors?\n"
   ]
  },
  {
   "cell_type": "markdown",
   "id": "281ebb9b-3b83-4bb8-8fda-fa4c0645834c",
   "metadata": {},
   "source": [
    "Sometimes expected errors can be handled within the programme, and an alternate course of action taken."
   ]
  },
  {
   "cell_type": "code",
   "execution_count": null,
   "id": "bbecddaf-6441-489e-8b74-a04c6470f5c1",
   "metadata": {},
   "outputs": [],
   "source": [
    "filename = 'myfile'\n",
    "\n",
    "try:\n",
    "    open(filename)\n",
    "    # Read data here ...\n",
    "    \n",
    "except OSError as err:\n",
    "    print(err)\n",
    "    print('\\n WARNING: Cannot read file so will use default values')\n",
    "    \n",
    "    # Do alternate action here ...\n",
    "\n",
    "except : \n",
    "    print('Unexpected error:')\n",
    "    raise\n",
    "        "
   ]
  },
  {
   "cell_type": "markdown",
   "id": "76d28f82-8750-4e8d-bfcb-05061f164649",
   "metadata": {},
   "source": [
    "We use `OSError` above to specify the type of exception that we expect might happen, if the file does not exist. \n",
    "\n",
    "Descriptions of the various exception types that can be used for error handling can be found [here](https://docs.python.org/3/library/exceptions.html).  \n",
    "\n",
    "You could add different exceptions to deal with different types of error. \n",
    "\n",
    "Or, if you want to stop the programme and flag the error, then you can `raise` the exception. \n"
   ]
  },
  {
   "cell_type": "markdown",
   "id": "17af4601-28e3-4cfb-b30b-51e36795709c",
   "metadata": {},
   "source": [
    "### Exercise 1"
   ]
  },
  {
   "cell_type": "markdown",
   "id": "addd73f6-658a-403b-a7cb-bd43b71e63c6",
   "metadata": {},
   "source": [
    "The python documentation shows an example of how to deal with a ValueError for user input [here](https://docs.python.org/3/tutorial/errors.html#handling-exceptions). \n",
    "                                                                                                  \n",
    "```\n",
    "while True:\n",
    "    try:\n",
    "        x = int(input(\"Please enter a number: \"))\n",
    "        break\n",
    "    except ValueError:\n",
    "        print(\"Oops!  That was no valid number.  Try again...\")\n",
    "```                                                                                                  "
   ]
  },
  {
   "cell_type": "markdown",
   "id": "1be82b70-c694-496f-a9e7-0796277dd758",
   "metadata": {},
   "source": [
    "Combine this with the example above, to ask the user for the filename, and check whether the filename has either: \n",
    "\n",
    " * More than 6 characters,\n",
    " * Use default values if the file specified doesn't exist, \n",
    " * Raise an error for other unexpected problems. \n",
    "    "
   ]
  },
  {
   "cell_type": "code",
   "execution_count": null,
   "id": "16a26436-2a51-4b52-8b84-0bbc8701b735",
   "metadata": {},
   "outputs": [],
   "source": [
    "while True:\n",
    "    # Uncoment this line before running \n",
    "    #file = input(\"Please enter a filename: \")\n",
    "    if len(file)<=6:\n",
    "        print('File name must have more thatn 6 characters')\n",
    "    else:\n",
    "        try:\n",
    "            open(file)\n",
    "            break\n",
    "        except OSError:\n",
    "            print(\"Oops!  Cannot open file. Try again...\")"
   ]
  },
  {
   "cell_type": "markdown",
   "id": "1c986bde-cd06-41e5-a68a-80ec24c746d7",
   "metadata": {},
   "source": [
    "***Extension:***\n",
    "\n",
    "Can you add a condition to flag when there are spaces in the filename?\n",
    "\n",
    "\n",
    "*Tips: \n",
    "This exercise uses a combination of conditions that we've seen throughout this session.* \n",
    "\n",
    "*If using `while True`, make sure you include `break` statements to avoid getting stuck in infinite loops!*"
   ]
  },
  {
   "cell_type": "markdown",
   "id": "90d6ed6c-cc04-423e-a456-16532e84ece0",
   "metadata": {},
   "source": [
    "---\n",
    "\n",
    "## References\n",
    "*A Whirlwind Tour of Python* by Jake VanderPlas (O’Reilly). Copyright 2016 O’Reilly Media, Inc., 978-1-491-96465-1"
   ]
  },
  {
   "cell_type": "markdown",
   "id": "ba3b2292-201c-42c4-abf9-ddff276cde9b",
   "metadata": {},
   "source": [
    "<br>\n",
    "<br>\n",
    "<br>\n",
    "<br>\n",
    "<br>\n",
    "<br>\n",
    "<br>\n",
    "<br>\n",
    "<br>\n",
    "<br>\n",
    "<br>\n",
    "<br>\n",
    "<br>\n",
    "<br>\n",
    "<br>\n",
    "<br>\n",
    "\n",
    "## Solutions to Exercises\n",
    "\n",
    "#### Exercise 1"
   ]
  },
  {
   "cell_type": "code",
   "execution_count": null,
   "id": "e5ba846c-0043-4719-927d-c2ef0c341379",
   "metadata": {},
   "outputs": [],
   "source": [
    "while True:\n",
    "    try:\n",
    "        filename = input(\"Please enter a filename: \")\n",
    "        if len(filename)<6:\n",
    "            print('Filenames have at least 6 characters, please try again...')\n",
    "            continue\n",
    "        else:\n",
    "            open(filename)\n",
    "            # Read data here ...\n",
    "            break\n",
    "    \n",
    "    except OSError as err:\n",
    "        print(err)\n",
    "        print('\\n WARNING: Cannot read file so will use default values')\n",
    "        # Do alternate action here ...\n",
    "        break\n",
    "\n",
    "    except: \n",
    "        print('Unexpected error:')\n",
    "        raise"
   ]
  },
  {
   "cell_type": "markdown",
   "id": "5699668c-6cd4-490c-ad37-7b6d4424ee74",
   "metadata": {},
   "source": [
    "***Extension***"
   ]
  },
  {
   "cell_type": "code",
   "execution_count": null,
   "id": "d866fa47-f1e6-49ec-880e-9332e4a1a92d",
   "metadata": {},
   "outputs": [],
   "source": [
    "while True:\n",
    "    try:\n",
    "        filename = input(\"Please enter a filename: \")\n",
    "        if len(filename)<6:\n",
    "            print('Filenames have at least 6 characters, please try again...')\n",
    "            continue\n",
    "\n",
    "        # === Added: ===\n",
    "        elif ' ' in filename:\n",
    "            print('Filenames cannot contain spaces, please try again...')\n",
    "            continue\n",
    "            \n",
    "        else:\n",
    "            open(filename)\n",
    "            # Read data here ...\n",
    "            break\n",
    "    \n",
    "    except OSError as err:\n",
    "        print(err)\n",
    "        print('\\n WARNING: Cannot read file so will use default values')\n",
    "        # Do alternate action here ...\n",
    "        break\n",
    "\n",
    "    except: \n",
    "        print('Unexpected error:')\n",
    "        raise"
   ]
  }
 ],
 "metadata": {
  "kernelspec": {
   "display_name": "Python 3 (ipykernel)",
   "language": "python",
   "name": "python3"
  },
  "language_info": {
   "codemirror_mode": {
    "name": "ipython",
    "version": 3
   },
   "file_extension": ".py",
   "mimetype": "text/x-python",
   "name": "python",
   "nbconvert_exporter": "python",
   "pygments_lexer": "ipython3",
   "version": "3.8.13"
  }
 },
 "nbformat": 4,
 "nbformat_minor": 5
}
