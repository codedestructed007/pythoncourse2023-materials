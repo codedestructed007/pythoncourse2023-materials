{
 "cells": [
  {
   "cell_type": "markdown",
   "metadata": {},
   "source": [
    "# Solutions for the exercises in the notebook: Introduction to numpy"
   ]
  },
  {
   "cell_type": "code",
   "execution_count": 1,
   "metadata": {},
   "outputs": [],
   "source": [
    "import numpy as np"
   ]
  },
  {
   "cell_type": "markdown",
   "metadata": {},
   "source": [
    "# Exercise 1"
   ]
  },
  {
   "cell_type": "code",
   "execution_count": 5,
   "metadata": {},
   "outputs": [],
   "source": [
    "# a) Create an array with units of seconds through the day, from 00:00 to 24:00, inclusive \n",
    "# b) Create new arrays that still have units of seconds but have 1 minute or 1 hour intervals.\n",
    "# (enter your code below)"
   ]
  },
  {
   "cell_type": "code",
   "execution_count": 8,
   "metadata": {},
   "outputs": [
    {
     "data": {
      "text/plain": [
       "array([    0,     1,     2, ..., 86398, 86399, 86400])"
      ]
     },
     "execution_count": 8,
     "metadata": {},
     "output_type": "execute_result"
    }
   ],
   "source": [
    "# a)\n",
    "np.arange(0,86401)\n",
    "# or: \n",
    "# np.linspace(0,86400,86401)"
   ]
  },
  {
   "cell_type": "code",
   "execution_count": 12,
   "metadata": {},
   "outputs": [
    {
     "data": {
      "text/plain": [
       "array([    0,  3600,  7200, 10800, 14400, 18000, 21600, 25200, 28800,\n",
       "       32400, 36000, 39600, 43200, 46800, 50400, 54000, 57600, 61200,\n",
       "       64800, 68400, 72000, 75600, 79200, 82800, 86400])"
      ]
     },
     "execution_count": 12,
     "metadata": {},
     "output_type": "execute_result"
    }
   ],
   "source": [
    "# b)\n",
    "np.arange(0,86401,60) # minutes\n",
    "np.arange(0,86401,60*60) # hours\n",
    "# or: \n",
    "# np.linspace(0,86400,24*60+1) # minutes\n",
    "# np.linspace(0,86400,24+1) # hours"
   ]
  },
  {
   "cell_type": "markdown",
   "metadata": {},
   "source": [
    "---\n",
    "\n",
    "# Exercise 2"
   ]
  },
  {
   "cell_type": "markdown",
   "metadata": {},
   "source": [
    "Create a 2D NumPy array from the following list and assign it to the variable \"a\":"
   ]
  },
  {
   "cell_type": "code",
   "execution_count": null,
   "metadata": {},
   "outputs": [],
   "source": [
    "# [[2, 3.2, 5.5, -6.4, -2.2, 2.4],\n",
    "#  [1, 22, 4, 0.1, 5.3, -9],\n",
    "#  [-1, 18, 6.2, 1.3, 7, -5], \n",
    "#  [3, 1, 2.1, 21, 1.1, -2]]"
   ]
  },
  {
   "cell_type": "code",
   "execution_count": 13,
   "metadata": {},
   "outputs": [
    {
     "name": "stdout",
     "output_type": "stream",
     "text": [
      "[[ 2.   3.2  5.5 -6.4 -2.2  2.4]\n",
      " [ 1.  22.   4.   0.1  5.3 -9. ]\n",
      " [-1.  18.   6.2  1.3  7.  -5. ]\n",
      " [ 3.   1.   2.1 21.   1.1 -2. ]]\n"
     ]
    }
   ],
   "source": [
    "# Solution\n",
    "a=np.array([[2, 3.2, 5.5, -6.4, -2.2, 2.4],\n",
    "  [1, 22, 4, 0.1, 5.3, -9],\n",
    "  [-1, 18, 6.2, 1.3, 7, -5], \n",
    "  [3, 1, 2.1, 21, 1.1, -2]])\n",
    "\n",
    "print(a)"
   ]
  },
  {
   "cell_type": "markdown",
   "metadata": {},
   "source": [
    "a) Can you guess what the following slices are equal to? Print them to check your understanding."
   ]
  },
  {
   "cell_type": "code",
   "execution_count": 14,
   "metadata": {},
   "outputs": [
    {
     "data": {
      "text/plain": [
       "array([-6.4,  0.1,  1.3, 21. ])"
      ]
     },
     "execution_count": 14,
     "metadata": {},
     "output_type": "execute_result"
    }
   ],
   "source": [
    "a[:, 3]\n",
    "# This is the 4th column of a (recall that we start indexing with 0)"
   ]
  },
  {
   "cell_type": "code",
   "execution_count": 15,
   "metadata": {},
   "outputs": [
    {
     "data": {
      "text/plain": [
       "array([[ 1. , 22. ,  4. ,  0.1],\n",
       "       [-1. , 18. ,  6.2,  1.3],\n",
       "       [ 3. ,  1. ,  2.1, 21. ]])"
      ]
     },
     "execution_count": 15,
     "metadata": {},
     "output_type": "execute_result"
    }
   ],
   "source": [
    "a[1:4, 0:4]\n",
    "# rows 1 to 4 (second to last) and columns first to fourth"
   ]
  },
  {
   "cell_type": "code",
   "execution_count": 17,
   "metadata": {},
   "outputs": [
    {
     "data": {
      "text/plain": [
       "array([4. , 6.2, 2.1])"
      ]
     },
     "execution_count": 17,
     "metadata": {},
     "output_type": "execute_result"
    }
   ],
   "source": [
    "a[1:, 2]\n",
    "# All rows starting from the second, from the third column"
   ]
  },
  {
   "cell_type": "markdown",
   "metadata": {},
   "source": [
    "b) How would you extract: i) the last column; ii) the row before last?"
   ]
  },
  {
   "cell_type": "code",
   "execution_count": 18,
   "metadata": {},
   "outputs": [
    {
     "data": {
      "text/plain": [
       "array([ 2.4, -9. , -5. , -2. ])"
      ]
     },
     "execution_count": 18,
     "metadata": {},
     "output_type": "execute_result"
    }
   ],
   "source": [
    "# i)\n",
    "a[:,-1] # This is the last column"
   ]
  },
  {
   "cell_type": "code",
   "execution_count": 19,
   "metadata": {},
   "outputs": [
    {
     "data": {
      "text/plain": [
       "array([-1. , 18. ,  6.2,  1.3,  7. , -5. ])"
      ]
     },
     "execution_count": 19,
     "metadata": {},
     "output_type": "execute_result"
    }
   ],
   "source": [
    "# ii)\n",
    "a[-2,:] # This is the row before last"
   ]
  },
  {
   "cell_type": "markdown",
   "metadata": {},
   "source": [
    "---\n",
    "\n",
    "# Exercise 3"
   ]
  },
  {
   "cell_type": "markdown",
   "metadata": {
    "nbpresent": {
     "id": "5e485850-9bbe-419f-82bb-d7fcd39be095"
    }
   },
   "source": [
    "Consider a 4 x 5 2D array of negative integers:"
   ]
  },
  {
   "cell_type": "code",
   "execution_count": 23,
   "metadata": {
    "nbpresent": {
     "id": "e4b78e95-ad9a-4a6d-a54b-68d7d4a72eab"
    }
   },
   "outputs": [
    {
     "data": {
      "text/plain": [
       "array([[ 0,  5, 10, 15, 20],\n",
       "       [25, 30, 35, 40, 45],\n",
       "       [50, 55, 60, 65, 70],\n",
       "       [75, 80, 85, 90, 95]])"
      ]
     },
     "execution_count": 23,
     "metadata": {},
     "output_type": "execute_result"
    }
   ],
   "source": [
    "a = np.arange(0, 100, 5).reshape(4, 5) \n",
    "a"
   ]
  },
  {
   "cell_type": "markdown",
   "metadata": {
    "nbpresent": {
     "id": "ccf808ae-2412-4e53-bb29-d3101eccc925"
    }
   },
   "source": [
    "Suppose you want to return an array `result`, which has the squared value when an element in array `a` is greater than `15` and less than `65`, and is 1 otherwise."
   ]
  },
  {
   "cell_type": "markdown",
   "metadata": {
    "nbpresent": {
     "id": "29981bec-1784-4ca7-b609-749858503e45"
    },
    "slideshow": {
     "slide_type": "subslide"
    }
   },
   "source": [
    "Using a `for` loop, the result could look like this:"
   ]
  },
  {
   "cell_type": "code",
   "execution_count": 24,
   "metadata": {
    "nbpresent": {
     "id": "a508de6d-2d13-4938-a145-d1159600a619"
    }
   },
   "outputs": [
    {
     "data": {
      "text/plain": [
       "array([[   1,    1,    1,    1,  400],\n",
       "       [ 625,  900, 1225, 1600, 2025],\n",
       "       [2500, 3025, 3600,    1,    1],\n",
       "       [   1,    1,    1,    1,    1]])"
      ]
     },
     "execution_count": 24,
     "metadata": {},
     "output_type": "execute_result"
    }
   ],
   "source": [
    "result = np.zeros(a.shape, dtype=a.dtype)    # pre-allocate the result array\n",
    "\n",
    "for i in range(a.shape[0]):                  # loop over rows\n",
    "    for j in range(a.shape[1]):              # loop over columns\n",
    "        if a[i, j] > 15 and a[i, j] < 65:    # only square the number if within the chosen limits\n",
    "            result[i, j] = a[i, j]**2\n",
    "        else:                                # set to 1 otherwise\n",
    "            result[i, j] = 1\n",
    "            \n",
    "result"
   ]
  },
  {
   "cell_type": "markdown",
   "metadata": {
    "nbpresent": {
     "id": "29981bec-1784-4ca7-b609-749858503e45"
    },
    "slideshow": {
     "slide_type": "subslide"
    }
   },
   "source": [
    "**Can you write a vectorised solution?**\n",
    "\n",
    "Hint: use np.logical_and() to create a condition for indexing (information on all NumPy's logic functions can be found [here](https://numpy.org/doc/stable/reference/routines.logic.html)). "
   ]
  },
  {
   "cell_type": "code",
   "execution_count": 26,
   "metadata": {},
   "outputs": [
    {
     "name": "stdout",
     "output_type": "stream",
     "text": [
      "[[   1    1    1    1  400]\n",
      " [ 625  900 1225 1600 2025]\n",
      " [2500 3025 3600    1    1]\n",
      " [   1    1    1    1    1]]\n"
     ]
    }
   ],
   "source": [
    "# Example solution 1: \n",
    "\n",
    "result = np.ones(a.shape,dtype=a.dtype)          # set all values to 1 at start\n",
    "condition = np.logical_and( a>15, a<65 )         # create a boolean array -> true within set limits\n",
    "result[condition] = np.square(a[condition])      # only square values where condition==true.\n",
    "print(result)"
   ]
  },
  {
   "cell_type": "code",
   "execution_count": 27,
   "metadata": {},
   "outputs": [
    {
     "name": "stdout",
     "output_type": "stream",
     "text": [
      "[[   1    1    1    1  400]\n",
      " [ 625  900 1225 1600 2025]\n",
      " [2500 3025 3600    1    1]\n",
      " [   1    1    1    1    1]]\n"
     ]
    }
   ],
   "source": [
    "# Example solution 2 - A one-liner using `np.where`:\n",
    "\n",
    "result = np.where(np.logical_and( a>15, a<65 ), a**2, 1)\n",
    "print(result)"
   ]
  },
  {
   "cell_type": "code",
   "execution_count": 31,
   "metadata": {},
   "outputs": [],
   "source": [
    "# help(np.where)\n"
   ]
  },
  {
   "cell_type": "markdown",
   "metadata": {},
   "source": [
    "---\n",
    "\n",
    "# Exercise 4"
   ]
  },
  {
   "cell_type": "markdown",
   "metadata": {
    "nbpresent": {
     "id": "8b2e92c7-13c0-4a2c-9efa-b034914c63d2"
    }
   },
   "source": [
    "1. Create a \"data\" array of evenly spaced numbers, in the interval (-10, 20) spaced by 0.5\n",
    "2. Calculate the (natural) logarithm of the data\n",
    "3. Create a condition i.e. a True/False (boolean) array, that you can use to mask these results\n",
    "    - The resulting array should be masked when either of the following conditions apply\n",
    "        - larger than -1 and smaller than 1 \n",
    "        - data is not a real number\n",
    "4. Mask the array depending on these conditions\n"
   ]
  },
  {
   "cell_type": "code",
   "execution_count": 32,
   "metadata": {
    "nbpresent": {
     "id": "ef21490b-e603-4991-a0df-0ebdccef705b"
    },
    "slideshow": {
     "slide_type": "subslide"
    }
   },
   "outputs": [
    {
     "name": "stdout",
     "output_type": "stream",
     "text": [
      "[-10.   -9.5  -9.   -8.5  -8.   -7.5  -7.   -6.5  -6.   -5.5  -5.   -4.5\n",
      "  -4.   -3.5  -3.   -2.5  -2.   -1.5  -1.   -0.5   0.    0.5   1.    1.5\n",
      "   2.    2.5   3.    3.5   4.    4.5   5.    5.5   6.    6.5   7.    7.5\n",
      "   8.    8.5   9.    9.5  10.   10.5  11.   11.5  12.   12.5  13.   13.5\n",
      "  14.   14.5  15.   15.5  16.   16.5  17.   17.5  18.   18.5  19.   19.5\n",
      "  20. ]\n"
     ]
    }
   ],
   "source": [
    "# Your code:\n",
    "# Hint: use `np.linspace` or `np.arange` functions\n",
    "\n",
    "# 1. \n",
    "data = np.arange(-10,20.1,0.5)\n",
    "print(data)"
   ]
  },
  {
   "cell_type": "code",
   "execution_count": 33,
   "metadata": {},
   "outputs": [
    {
     "name": "stdout",
     "output_type": "stream",
     "text": [
      "[        nan         nan         nan         nan         nan         nan\n",
      "         nan         nan         nan         nan         nan         nan\n",
      "         nan         nan         nan         nan         nan         nan\n",
      "         nan         nan        -inf -0.69314718  0.          0.40546511\n",
      "  0.69314718  0.91629073  1.09861229  1.25276297  1.38629436  1.5040774\n",
      "  1.60943791  1.70474809  1.79175947  1.87180218  1.94591015  2.01490302\n",
      "  2.07944154  2.14006616  2.19722458  2.2512918   2.30258509  2.35137526\n",
      "  2.39789527  2.44234704  2.48490665  2.52572864  2.56494936  2.60268969\n",
      "  2.63905733  2.67414865  2.7080502   2.74084002  2.77258872  2.80336038\n",
      "  2.83321334  2.86220088  2.89037176  2.91777073  2.94443898  2.97041447\n",
      "  2.99573227]\n"
     ]
    },
    {
     "name": "stderr",
     "output_type": "stream",
     "text": [
      "C:\\Users\\JG10\\AppData\\Local\\Temp\\ipykernel_836\\1934390118.py:2: RuntimeWarning: divide by zero encountered in log\n",
      "  logdata = np.log(data)\n",
      "C:\\Users\\JG10\\AppData\\Local\\Temp\\ipykernel_836\\1934390118.py:2: RuntimeWarning: invalid value encountered in log\n",
      "  logdata = np.log(data)\n"
     ]
    }
   ],
   "source": [
    "# 2.\n",
    "logdata = np.log(data)\n",
    "print(logdata)"
   ]
  },
  {
   "cell_type": "code",
   "execution_count": 37,
   "metadata": {
    "nbpresent": {
     "id": "24ca4668-8118-4652-bc6a-3fc80dd52b2c"
    }
   },
   "outputs": [
    {
     "name": "stdout",
     "output_type": "stream",
     "text": [
      "[ True  True  True  True  True  True  True  True  True  True  True  True\n",
      "  True  True  True  True  True  True  True  True  True  True  True  True\n",
      "  True  True False False False False False False False False False False\n",
      " False False False False False False False False False False False False\n",
      " False False False False False False False False False False False False\n",
      " False]\n",
      "[ True  True  True  True  True  True  True  True  True  True  True  True\n",
      "  True  True  True  True  True  True  True  True  True  True  True  True\n",
      "  True  True False False False False False False False False False False\n",
      " False False False False False False False False False False False False\n",
      " False False False False False False False False False False False False\n",
      " False]\n"
     ]
    }
   ],
   "source": [
    "# 3. Hint: use np.isfinite\n",
    "condition = np.logical_or(~np.isfinite(logdata), np.logical_and(logdata>-1,logdata<1))\n",
    "print(condition)\n",
    "\n",
    "#Another possible condition giving the same result would be:\n",
    "condition = np.logical_or(np.logical_not(np.isfinite(logdata)), np.abs(logdata)<1)\n",
    "print(condition)\n"
   ]
  },
  {
   "cell_type": "code",
   "execution_count": 38,
   "metadata": {
    "nbpresent": {
     "id": "8e131b42-9337-499d-9192-e8250ca8ae6c"
    }
   },
   "outputs": [
    {
     "name": "stdout",
     "output_type": "stream",
     "text": [
      "[-- -- -- -- -- -- -- -- -- -- -- -- -- -- -- -- -- -- -- -- -- -- -- --\n",
      " -- -- 1.0986122886681098 1.252762968495368 1.3862943611198906\n",
      " 1.5040773967762742 1.6094379124341003 1.7047480922384253\n",
      " 1.791759469228055 1.8718021769015913 1.9459101490553132\n",
      " 2.0149030205422647 2.0794415416798357 2.1400661634962708\n",
      " 2.1972245773362196 2.2512917986064953 2.302585092994046\n",
      " 2.3513752571634776 2.3978952727983707 2.4423470353692043\n",
      " 2.4849066497880004 2.5257286443082556 2.5649493574615367\n",
      " 2.6026896854443837 2.6390573296152584 2.6741486494265287 2.70805020110221\n",
      " 2.740840023925201 2.772588722239781 2.803360380906535 2.833213344056216\n",
      " 2.8622008809294686 2.8903717578961645 2.917770732084279\n",
      " 2.9444389791664403 2.970414465569701 2.995732273553991]\n"
     ]
    }
   ],
   "source": [
    "# 4. Hint: use np.ma.masked_where(condition,arr)\n",
    "\n",
    "masked_arr= np.ma.masked_where(condition, logdata)\n",
    "print(masked_arr)"
   ]
  },
  {
   "cell_type": "markdown",
   "metadata": {},
   "source": [
    "---\n",
    "\n",
    "# Exercise 5"
   ]
  },
  {
   "cell_type": "markdown",
   "metadata": {},
   "source": [
    "Generate a 2d array with shape 5x5. The first value is 0 and it grows left to right and top to bottom in increments on 0.1."
   ]
  },
  {
   "cell_type": "code",
   "execution_count": 40,
   "metadata": {},
   "outputs": [
    {
     "data": {
      "text/plain": [
       "array([0. , 0.1, 0.2, 0.3, 0.4, 0.5, 0.6, 0.7, 0.8, 0.9, 1. , 1.1, 1.2,\n",
       "       1.3, 1.4, 1.5, 1.6, 1.7, 1.8, 1.9, 2. , 2.1, 2.2, 2.3, 2.4])"
      ]
     },
     "execution_count": 40,
     "metadata": {},
     "output_type": "execute_result"
    }
   ],
   "source": [
    "a2d = np.arange(0.,2.5,.1)\n",
    "a2d"
   ]
  },
  {
   "cell_type": "code",
   "execution_count": 41,
   "metadata": {},
   "outputs": [
    {
     "data": {
      "text/plain": [
       "array([0. , 0.1, 0.2, 0.3, 0.4, 0.5, 0.6, 0.7, 0.8, 0.9, 1. , 1.1, 1.2,\n",
       "       1.3, 1.4, 1.5, 1.6, 1.7, 1.8, 1.9, 2. , 2.1, 2.2, 2.3, 2.4])"
      ]
     },
     "execution_count": 41,
     "metadata": {},
     "output_type": "execute_result"
    }
   ],
   "source": [
    "#Another possibility\n",
    "a2d=np.linspace(0.,2.4,25)\n",
    "a2d"
   ]
  },
  {
   "cell_type": "code",
   "execution_count": 42,
   "metadata": {},
   "outputs": [
    {
     "data": {
      "text/plain": [
       "array([[0. , 0.1, 0.2, 0.3, 0.4],\n",
       "       [0.5, 0.6, 0.7, 0.8, 0.9],\n",
       "       [1. , 1.1, 1.2, 1.3, 1.4],\n",
       "       [1.5, 1.6, 1.7, 1.8, 1.9],\n",
       "       [2. , 2.1, 2.2, 2.3, 2.4]])"
      ]
     },
     "execution_count": 42,
     "metadata": {},
     "output_type": "execute_result"
    }
   ],
   "source": [
    "a2d.reshape([5,5])"
   ]
  }
 ],
 "metadata": {
  "kernelspec": {
   "display_name": "Python 3 (ipykernel)",
   "language": "python",
   "name": "python3"
  },
  "language_info": {
   "codemirror_mode": {
    "name": "ipython",
    "version": 3
   },
   "file_extension": ".py",
   "mimetype": "text/x-python",
   "name": "python",
   "nbconvert_exporter": "python",
   "pygments_lexer": "ipython3",
   "version": "3.9.16"
  }
 },
 "nbformat": 4,
 "nbformat_minor": 4
}
